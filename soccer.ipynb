{
 "cells": [
  {
   "cell_type": "code",
   "execution_count": 14,
   "outputs": [
    {
     "data": {
      "text/plain": "(18207, 89)"
     },
     "execution_count": 14,
     "metadata": {},
     "output_type": "execute_result"
    }
   ],
   "source": [
    "import pandas as pd\n",
    "from Replace.replace import Replace\n",
    "\n",
    "data_frame = pd.read_csv('data.csv')\n",
    "data_frame.shape"
   ],
   "metadata": {
    "collapsed": false,
    "pycharm": {
     "name": "#%%\n"
    }
   }
  },
  {
   "cell_type": "code",
   "execution_count": 15,
   "outputs": [
    {
     "data": {
      "text/plain": "         Unnamed: 0             ID           Age       Overall     Potential  \\\ncount  18207.000000   18207.000000  18207.000000  18207.000000  18207.000000   \nmean    9103.000000  214298.338606     25.122206     66.238699     71.307299   \nstd     5256.052511   29965.244204      4.669943      6.908930      6.136496   \nmin        0.000000      16.000000     16.000000     46.000000     48.000000   \n25%     4551.500000  200315.500000     21.000000     62.000000     67.000000   \n50%     9103.000000  221759.000000     25.000000     66.000000     71.000000   \n75%    13654.500000  236529.500000     28.000000     71.000000     75.000000   \nmax    18206.000000  246620.000000     45.000000     94.000000     95.000000   \n\n            Special  International Reputation     Weak Foot   Skill Moves  \\\ncount  18207.000000              18159.000000  18159.000000  18159.000000   \nmean    1597.809908                  1.113222      2.947299      2.361308   \nstd      272.586016                  0.394031      0.660456      0.756164   \nmin      731.000000                  1.000000      1.000000      1.000000   \n25%     1457.000000                  1.000000      3.000000      2.000000   \n50%     1635.000000                  1.000000      3.000000      2.000000   \n75%     1787.000000                  1.000000      3.000000      3.000000   \nmax     2346.000000                  5.000000      5.000000      5.000000   \n\n       Jersey Number  ...     Penalties     Composure       Marking  \\\ncount   18147.000000  ...  18159.000000  18159.000000  18159.000000   \nmean       19.546096  ...     48.548598     58.648274     47.281623   \nstd        15.947765  ...     15.704053     11.436133     19.904397   \nmin         1.000000  ...      5.000000      3.000000      3.000000   \n25%         8.000000  ...     39.000000     51.000000     30.000000   \n50%        17.000000  ...     49.000000     60.000000     53.000000   \n75%        26.000000  ...     60.000000     67.000000     64.000000   \nmax        99.000000  ...     92.000000     96.000000     94.000000   \n\n       StandingTackle  SlidingTackle      GKDiving    GKHandling  \\\ncount    18159.000000   18159.000000  18159.000000  18159.000000   \nmean        47.697836      45.661435     16.616223     16.391596   \nstd         21.664004      21.289135     17.695349     16.906900   \nmin          2.000000       3.000000      1.000000      1.000000   \n25%         27.000000      24.000000      8.000000      8.000000   \n50%         55.000000      52.000000     11.000000     11.000000   \n75%         66.000000      64.000000     14.000000     14.000000   \nmax         93.000000      91.000000     90.000000     92.000000   \n\n          GKKicking  GKPositioning    GKReflexes  \ncount  18159.000000   18159.000000  18159.000000  \nmean      16.232061      16.388898     16.710887  \nstd       16.502864      17.034669     17.955119  \nmin        1.000000       1.000000      1.000000  \n25%        8.000000       8.000000      8.000000  \n50%       11.000000      11.000000     11.000000  \n75%       14.000000      14.000000     14.000000  \nmax       91.000000      90.000000     94.000000  \n\n[8 rows x 44 columns]",
      "text/html": "<div>\n<style scoped>\n    .dataframe tbody tr th:only-of-type {\n        vertical-align: middle;\n    }\n\n    .dataframe tbody tr th {\n        vertical-align: top;\n    }\n\n    .dataframe thead th {\n        text-align: right;\n    }\n</style>\n<table border=\"1\" class=\"dataframe\">\n  <thead>\n    <tr style=\"text-align: right;\">\n      <th></th>\n      <th>Unnamed: 0</th>\n      <th>ID</th>\n      <th>Age</th>\n      <th>Overall</th>\n      <th>Potential</th>\n      <th>Special</th>\n      <th>International Reputation</th>\n      <th>Weak Foot</th>\n      <th>Skill Moves</th>\n      <th>Jersey Number</th>\n      <th>...</th>\n      <th>Penalties</th>\n      <th>Composure</th>\n      <th>Marking</th>\n      <th>StandingTackle</th>\n      <th>SlidingTackle</th>\n      <th>GKDiving</th>\n      <th>GKHandling</th>\n      <th>GKKicking</th>\n      <th>GKPositioning</th>\n      <th>GKReflexes</th>\n    </tr>\n  </thead>\n  <tbody>\n    <tr>\n      <th>count</th>\n      <td>18207.000000</td>\n      <td>18207.000000</td>\n      <td>18207.000000</td>\n      <td>18207.000000</td>\n      <td>18207.000000</td>\n      <td>18207.000000</td>\n      <td>18159.000000</td>\n      <td>18159.000000</td>\n      <td>18159.000000</td>\n      <td>18147.000000</td>\n      <td>...</td>\n      <td>18159.000000</td>\n      <td>18159.000000</td>\n      <td>18159.000000</td>\n      <td>18159.000000</td>\n      <td>18159.000000</td>\n      <td>18159.000000</td>\n      <td>18159.000000</td>\n      <td>18159.000000</td>\n      <td>18159.000000</td>\n      <td>18159.000000</td>\n    </tr>\n    <tr>\n      <th>mean</th>\n      <td>9103.000000</td>\n      <td>214298.338606</td>\n      <td>25.122206</td>\n      <td>66.238699</td>\n      <td>71.307299</td>\n      <td>1597.809908</td>\n      <td>1.113222</td>\n      <td>2.947299</td>\n      <td>2.361308</td>\n      <td>19.546096</td>\n      <td>...</td>\n      <td>48.548598</td>\n      <td>58.648274</td>\n      <td>47.281623</td>\n      <td>47.697836</td>\n      <td>45.661435</td>\n      <td>16.616223</td>\n      <td>16.391596</td>\n      <td>16.232061</td>\n      <td>16.388898</td>\n      <td>16.710887</td>\n    </tr>\n    <tr>\n      <th>std</th>\n      <td>5256.052511</td>\n      <td>29965.244204</td>\n      <td>4.669943</td>\n      <td>6.908930</td>\n      <td>6.136496</td>\n      <td>272.586016</td>\n      <td>0.394031</td>\n      <td>0.660456</td>\n      <td>0.756164</td>\n      <td>15.947765</td>\n      <td>...</td>\n      <td>15.704053</td>\n      <td>11.436133</td>\n      <td>19.904397</td>\n      <td>21.664004</td>\n      <td>21.289135</td>\n      <td>17.695349</td>\n      <td>16.906900</td>\n      <td>16.502864</td>\n      <td>17.034669</td>\n      <td>17.955119</td>\n    </tr>\n    <tr>\n      <th>min</th>\n      <td>0.000000</td>\n      <td>16.000000</td>\n      <td>16.000000</td>\n      <td>46.000000</td>\n      <td>48.000000</td>\n      <td>731.000000</td>\n      <td>1.000000</td>\n      <td>1.000000</td>\n      <td>1.000000</td>\n      <td>1.000000</td>\n      <td>...</td>\n      <td>5.000000</td>\n      <td>3.000000</td>\n      <td>3.000000</td>\n      <td>2.000000</td>\n      <td>3.000000</td>\n      <td>1.000000</td>\n      <td>1.000000</td>\n      <td>1.000000</td>\n      <td>1.000000</td>\n      <td>1.000000</td>\n    </tr>\n    <tr>\n      <th>25%</th>\n      <td>4551.500000</td>\n      <td>200315.500000</td>\n      <td>21.000000</td>\n      <td>62.000000</td>\n      <td>67.000000</td>\n      <td>1457.000000</td>\n      <td>1.000000</td>\n      <td>3.000000</td>\n      <td>2.000000</td>\n      <td>8.000000</td>\n      <td>...</td>\n      <td>39.000000</td>\n      <td>51.000000</td>\n      <td>30.000000</td>\n      <td>27.000000</td>\n      <td>24.000000</td>\n      <td>8.000000</td>\n      <td>8.000000</td>\n      <td>8.000000</td>\n      <td>8.000000</td>\n      <td>8.000000</td>\n    </tr>\n    <tr>\n      <th>50%</th>\n      <td>9103.000000</td>\n      <td>221759.000000</td>\n      <td>25.000000</td>\n      <td>66.000000</td>\n      <td>71.000000</td>\n      <td>1635.000000</td>\n      <td>1.000000</td>\n      <td>3.000000</td>\n      <td>2.000000</td>\n      <td>17.000000</td>\n      <td>...</td>\n      <td>49.000000</td>\n      <td>60.000000</td>\n      <td>53.000000</td>\n      <td>55.000000</td>\n      <td>52.000000</td>\n      <td>11.000000</td>\n      <td>11.000000</td>\n      <td>11.000000</td>\n      <td>11.000000</td>\n      <td>11.000000</td>\n    </tr>\n    <tr>\n      <th>75%</th>\n      <td>13654.500000</td>\n      <td>236529.500000</td>\n      <td>28.000000</td>\n      <td>71.000000</td>\n      <td>75.000000</td>\n      <td>1787.000000</td>\n      <td>1.000000</td>\n      <td>3.000000</td>\n      <td>3.000000</td>\n      <td>26.000000</td>\n      <td>...</td>\n      <td>60.000000</td>\n      <td>67.000000</td>\n      <td>64.000000</td>\n      <td>66.000000</td>\n      <td>64.000000</td>\n      <td>14.000000</td>\n      <td>14.000000</td>\n      <td>14.000000</td>\n      <td>14.000000</td>\n      <td>14.000000</td>\n    </tr>\n    <tr>\n      <th>max</th>\n      <td>18206.000000</td>\n      <td>246620.000000</td>\n      <td>45.000000</td>\n      <td>94.000000</td>\n      <td>95.000000</td>\n      <td>2346.000000</td>\n      <td>5.000000</td>\n      <td>5.000000</td>\n      <td>5.000000</td>\n      <td>99.000000</td>\n      <td>...</td>\n      <td>92.000000</td>\n      <td>96.000000</td>\n      <td>94.000000</td>\n      <td>93.000000</td>\n      <td>91.000000</td>\n      <td>90.000000</td>\n      <td>92.000000</td>\n      <td>91.000000</td>\n      <td>90.000000</td>\n      <td>94.000000</td>\n    </tr>\n  </tbody>\n</table>\n<p>8 rows × 44 columns</p>\n</div>"
     },
     "execution_count": 15,
     "metadata": {},
     "output_type": "execute_result"
    }
   ],
   "source": [
    "data_frame.describe()"
   ],
   "metadata": {
    "collapsed": false,
    "pycharm": {
     "name": "#%%\n"
    }
   }
  },
  {
   "cell_type": "code",
   "execution_count": 16,
   "outputs": [
    {
     "data": {
      "text/plain": "array([[0, 158023, 'L. Messi', ..., 14.0, 8.0, '€226.5M'],\n       [1, 20801, 'Cristiano Ronaldo', ..., 14.0, 11.0, '€127.1M'],\n       [2, 190871, 'Neymar Jr', ..., 15.0, 11.0, '€228.1M'],\n       ...,\n       [18204, 241638, 'B. Worman', ..., 6.0, 13.0, '€165K'],\n       [18205, 246268, 'D. Walker-Rice', ..., 8.0, 9.0, '€143K'],\n       [18206, 246269, 'G. Nugent', ..., 12.0, 9.0, '€165K']],\n      dtype=object)"
     },
     "execution_count": 16,
     "metadata": {},
     "output_type": "execute_result"
    }
   ],
   "source": [
    "data_frame.values"
   ],
   "metadata": {
    "collapsed": false,
    "pycharm": {
     "name": "#%%\n"
    }
   }
  },
  {
   "cell_type": "code",
   "execution_count": 17,
   "outputs": [
    {
     "data": {
      "text/plain": "               Name    Wage      Value  Difference\n2         Neymar Jr  290000  118500000   118210000\n0          L. Messi  565000  110500000   109935000\n4      K. De Bruyne  355000  102000000   101645000\n5         E. Hazard  340000   93000000    92660000\n15        P. Dybala  205000   89000000    88795000\n...             ...     ...        ...         ...\n17752   S. Phillips    1000          0       -1000\n12192  H. Sulaimani    3000          0       -3000\n3550    S. Nakamura    4000          0       -4000\n4228       B. Nivet    5000          0       -5000\n864          Hilton   18000          0      -18000\n\n[18207 rows x 4 columns]",
      "text/html": "<div>\n<style scoped>\n    .dataframe tbody tr th:only-of-type {\n        vertical-align: middle;\n    }\n\n    .dataframe tbody tr th {\n        vertical-align: top;\n    }\n\n    .dataframe thead th {\n        text-align: right;\n    }\n</style>\n<table border=\"1\" class=\"dataframe\">\n  <thead>\n    <tr style=\"text-align: right;\">\n      <th></th>\n      <th>Name</th>\n      <th>Wage</th>\n      <th>Value</th>\n      <th>Difference</th>\n    </tr>\n  </thead>\n  <tbody>\n    <tr>\n      <th>2</th>\n      <td>Neymar Jr</td>\n      <td>290000</td>\n      <td>118500000</td>\n      <td>118210000</td>\n    </tr>\n    <tr>\n      <th>0</th>\n      <td>L. Messi</td>\n      <td>565000</td>\n      <td>110500000</td>\n      <td>109935000</td>\n    </tr>\n    <tr>\n      <th>4</th>\n      <td>K. De Bruyne</td>\n      <td>355000</td>\n      <td>102000000</td>\n      <td>101645000</td>\n    </tr>\n    <tr>\n      <th>5</th>\n      <td>E. Hazard</td>\n      <td>340000</td>\n      <td>93000000</td>\n      <td>92660000</td>\n    </tr>\n    <tr>\n      <th>15</th>\n      <td>P. Dybala</td>\n      <td>205000</td>\n      <td>89000000</td>\n      <td>88795000</td>\n    </tr>\n    <tr>\n      <th>...</th>\n      <td>...</td>\n      <td>...</td>\n      <td>...</td>\n      <td>...</td>\n    </tr>\n    <tr>\n      <th>17752</th>\n      <td>S. Phillips</td>\n      <td>1000</td>\n      <td>0</td>\n      <td>-1000</td>\n    </tr>\n    <tr>\n      <th>12192</th>\n      <td>H. Sulaimani</td>\n      <td>3000</td>\n      <td>0</td>\n      <td>-3000</td>\n    </tr>\n    <tr>\n      <th>3550</th>\n      <td>S. Nakamura</td>\n      <td>4000</td>\n      <td>0</td>\n      <td>-4000</td>\n    </tr>\n    <tr>\n      <th>4228</th>\n      <td>B. Nivet</td>\n      <td>5000</td>\n      <td>0</td>\n      <td>-5000</td>\n    </tr>\n    <tr>\n      <th>864</th>\n      <td>Hilton</td>\n      <td>18000</td>\n      <td>0</td>\n      <td>-18000</td>\n    </tr>\n  </tbody>\n</table>\n<p>18207 rows × 4 columns</p>\n</div>"
     },
     "execution_count": 17,
     "metadata": {},
     "output_type": "execute_result"
    }
   ],
   "source": [
    "df1 = pd.DataFrame(data_frame, columns=['Name', 'Wage', 'Value'])\n",
    "\n",
    "df1['Wage'] = Replace.convert_to_int_and_remove_euro_symbol(df1, 'Wage')\n",
    "df1['Value'] = Replace.convert_to_int_and_remove_euro_symbol(df1, 'Value')\n",
    "\n",
    "df1['Difference'] = df1['Value'] - df1['Wage']\n",
    "df1.sort_values('Difference', ascending=False)"
   ],
   "metadata": {
    "collapsed": false,
    "pycharm": {
     "name": "#%%\n"
    }
   }
  }
 ],
 "metadata": {
  "kernelspec": {
   "display_name": "Python 3",
   "language": "python",
   "name": "python3"
  },
  "language_info": {
   "codemirror_mode": {
    "name": "ipython",
    "version": 2
   },
   "file_extension": ".py",
   "mimetype": "text/x-python",
   "name": "python",
   "nbconvert_exporter": "python",
   "pygments_lexer": "ipython2",
   "version": "2.7.6"
  }
 },
 "nbformat": 4,
 "nbformat_minor": 0
}